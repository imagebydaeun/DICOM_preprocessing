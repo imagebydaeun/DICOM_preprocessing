{
 "cells": [
  {
   "cell_type": "markdown",
   "id": "4e913398",
   "metadata": {},
   "source": [
    "### SyN registration 시행 전 FOV cropping 필요 (DICOM에서)"
   ]
  },
  {
   "cell_type": "code",
   "execution_count": 1,
   "id": "84f13a1f",
   "metadata": {},
   "outputs": [],
   "source": [
    "import os\n",
    "import pydicom\n",
    "import SimpleITK as sitk\n",
    "from tqdm.notebook import tqdm"
   ]
  },
  {
   "cell_type": "code",
   "execution_count": 2,
   "id": "bceaada0",
   "metadata": {},
   "outputs": [],
   "source": [
    "# Define the directories for input and output\n",
    "BASE_DIR = \"E://data//single_TARE_dicomraw(pre,ap,pp)\"\n",
    "OUTPUT_DIR = \"E://data//single_TARE_matchedwithFOVcropping(PP_fixed)_nifti\"\n",
    "os.makedirs(OUTPUT_DIR, exist_ok=True)"
   ]
  },
  {
   "cell_type": "code",
   "execution_count": 5,
   "id": "05f7babe",
   "metadata": {},
   "outputs": [],
   "source": [
    "# Extract_z_range using pydicom\n",
    "def extract_z_range(dicom_dir):\n",
    "    z_positions = []\n",
    "    for fname in os.listdir(dicom_dir):\n",
    "        path = os.path.join(dicom_dir, fname)\n",
    "        if not fname.lower().endswith(\".dcm\"):\n",
    "            continue\n",
    "        try:\n",
    "            ds = pydicom.dcmread(path, stop_before_pixels=True)\n",
    "            z = float(ds.ImagePositionPatient[2])  # z = slice location\n",
    "            z_positions.append(z)\n",
    "        except Exception as e:\n",
    "            print(f\"⚠️ Skipping {fname}: {e}\")\n",
    "            continue\n",
    "    if not z_positions:\n",
    "        raise ValueError(f\"No valid DICOM slices found in {dicom_dir}\")\n",
    "    z_positions.sort()\n",
    "    return z_positions[0], z_positions[-1]\n",
    "\n",
    "# Crop SimpleITK image to match Z-range\n",
    "def crop_to_z_range(image, z_min, z_max):\n",
    "    origin = image.GetOrigin()\n",
    "    spacing = image.GetSpacing()\n",
    "    size = list(image.GetSize())\n",
    "    z_positions = [origin[2] + i * spacing[2] for i in range(size[2])]\n",
    "\n",
    "    z_indices = [\n",
    "        i for i, z in enumerate(z_positions)\n",
    "        if z_min <= z <= z_max or z_max <= z <= z_min\n",
    "    ]\n",
    "    if not z_indices:\n",
    "        return None\n",
    "\n",
    "    start_slice = min(z_indices)\n",
    "    end_slice = max(z_indices) + 1\n",
    "    size[2] = end_slice - start_slice\n",
    "    index = [0, 0, start_slice]\n",
    "\n",
    "    return sitk.RegionOfInterest(image, size, index)\n",
    "\n",
    "# DICOM to SimpleITK volume\n",
    "def load_dicom_series(dicom_dir):\n",
    "    reader = sitk.ImageSeriesReader()\n",
    "    series_ids = reader.GetGDCMSeriesIDs(dicom_dir)\n",
    "    if not series_ids:\n",
    "        raise ValueError(f\"No DICOM series found in {dicom_dir}\")\n",
    "    series_files = reader.GetGDCMSeriesFileNames(dicom_dir, series_ids[0])\n",
    "    reader.SetFileNames(series_files)\n",
    "    return reader.Execute()"
   ]
  },
  {
   "cell_type": "code",
   "execution_count": 6,
   "id": "4787e4ec",
   "metadata": {},
   "outputs": [
    {
     "data": {
      "application/vnd.jupyter.widget-view+json": {
       "model_id": "055c598651724a9fb7dc247129a8574a",
       "version_major": 2,
       "version_minor": 0
      },
      "text/plain": [
       "  0%|          | 0/144 [00:00<?, ?it/s]"
      ]
     },
     "metadata": {},
     "output_type": "display_data"
    }
   ],
   "source": [
    "for patient_id in tqdm(os.listdir(BASE_DIR)):\n",
    "    patient_dir = os.path.join(BASE_DIR, patient_id)\n",
    "    if not os.path.isdir(patient_dir):\n",
    "        continue\n",
    "\n",
    "    try:\n",
    "        pre_dir = os.path.join(patient_dir, \"pre\")\n",
    "        ap_dir = os.path.join(patient_dir, \"AP\")\n",
    "        pp_dir = os.path.join(patient_dir, \"PP\")\n",
    "        if not all(os.path.isdir(p) for p in [pre_dir, ap_dir, pp_dir]):\n",
    "            print(f\"❌ {patient_id}: Missing DICOM folders\")\n",
    "            continue\n",
    "\n",
    "        # 1. Extract Z-range from PP (fixed image)\n",
    "        z_min, z_max = extract_z_range(pp_dir)\n",
    "\n",
    "        # 2. Load DICOM volumes\n",
    "        pre_img = load_dicom_series(pre_dir)\n",
    "        ap_img = load_dicom_series(ap_dir)\n",
    "        pp_img = load_dicom_series(pp_dir)  # no cropping needed\n",
    "\n",
    "        # 3. Crop Pre and AP to match PP's Z-range\n",
    "        pre_cropped = crop_to_z_range(pre_img, z_min, z_max)\n",
    "        ap_cropped = crop_to_z_range(ap_img, z_min, z_max)\n",
    "\n",
    "        if pre_cropped is None or ap_cropped is None:\n",
    "            print(f\"⚠️ {patient_id}: No overlapping Z-range\")\n",
    "            continue\n",
    "\n",
    "        # 4. Save to output directory\n",
    "        out_dir = os.path.join(OUTPUT_DIR, patient_id)\n",
    "        os.makedirs(out_dir, exist_ok=True)\n",
    "\n",
    "        sitk.WriteImage(pre_cropped, os.path.join(out_dir, \"pre.nii.gz\"))\n",
    "        sitk.WriteImage(ap_cropped, os.path.join(out_dir, \"AP.nii.gz\"))\n",
    "        sitk.WriteImage(pp_img, os.path.join(out_dir, \"PP.nii.gz\"))\n",
    "\n",
    "    except Exception as e:\n",
    "        print(f\"❌ Error processing {patient_id}: {e}\")"
   ]
  },
  {
   "cell_type": "markdown",
   "id": "95b80db4",
   "metadata": {},
   "source": [
    "Output directory structure:\n",
    "\n",
    "```text\n",
    "OUTPUT_DIR/\n",
    "├── 00123/\n",
    "│   ├── pre.nii.gz\n",
    "│   ├── AP.nii.gz\n",
    "│   └── PP.nii.gz\n",
    "...\n",
    "```"
   ]
  }
 ],
 "metadata": {
  "kernelspec": {
   "display_name": "img_processor",
   "language": "python",
   "name": "python3"
  },
  "language_info": {
   "codemirror_mode": {
    "name": "ipython",
    "version": 3
   },
   "file_extension": ".py",
   "mimetype": "text/x-python",
   "name": "python",
   "nbconvert_exporter": "python",
   "pygments_lexer": "ipython3",
   "version": "3.9.21"
  }
 },
 "nbformat": 4,
 "nbformat_minor": 5
}
