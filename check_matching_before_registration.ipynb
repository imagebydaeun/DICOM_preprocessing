{
 "cells": [
  {
   "cell_type": "code",
   "execution_count": 1,
   "metadata": {},
   "outputs": [],
   "source": [
    "import os\n",
    "import SimpleITK as sitk\n",
    "import pandas as pd\n",
    "from tqdm import tqdm"
   ]
  },
  {
   "cell_type": "code",
   "execution_count": 5,
   "metadata": {},
   "outputs": [],
   "source": [
    "# Define directories\n",
    "base_dir = \"E://data//single_TARE_geometrymatchedwithresampling(PP_fixed)\"\n",
    "output_csv_path = \"E://single_TARE//resampledPP_match_results2.csv\" "
   ]
  },
  {
   "cell_type": "code",
   "execution_count": 3,
   "metadata": {},
   "outputs": [],
   "source": [
    "def load_image(path):\n",
    "    return sitk.ReadImage(path)\n",
    "\n",
    "def image_properties(img):\n",
    "    return {\n",
    "        'size': img.GetSize(),\n",
    "        'origin': img.GetOrigin(),\n",
    "        'spacing': img.GetSpacing(),\n",
    "        'direction': img.GetDirection()\n",
    "    }"
   ]
  },
  {
   "cell_type": "code",
   "execution_count": 6,
   "metadata": {},
   "outputs": [
    {
     "name": "stderr",
     "output_type": "stream",
     "text": [
      "100%|██████████| 144/144 [03:38<00:00,  1.52s/it]"
     ]
    },
    {
     "name": "stdout",
     "output_type": "stream",
     "text": [
      "✅ Matching check completed and saved to E://single_TARE//resampledPP_match_results2.csv\n"
     ]
    },
    {
     "name": "stderr",
     "output_type": "stream",
     "text": [
      "\n"
     ]
    }
   ],
   "source": [
    "results = []\n",
    "\n",
    "# Loop through patients\n",
    "for patient_id in tqdm(os.listdir(base_dir)):\n",
    "    patient_path = os.path.join(base_dir, patient_id)\n",
    "    if not os.path.isdir(patient_path):\n",
    "        continue\n",
    "\n",
    "    try:\n",
    "        pre_img = load_image(os.path.join(patient_path, 'pre.nrrd'))\n",
    "        ap_img = load_image(os.path.join(patient_path, 'AP.nrrd'))\n",
    "        pp_img = load_image(os.path.join(patient_path, 'PP.nrrd'))\n",
    "\n",
    "        pre_props = image_properties(pre_img)\n",
    "        ap_props = image_properties(ap_img)\n",
    "        pp_props = image_properties(pp_img)\n",
    "\n",
    "        mismatch_info = []\n",
    "\n",
    "        for key in ['size', 'origin', 'spacing', 'direction']:\n",
    "            if not (pre_props[key] == ap_props[key] == pp_props[key]):\n",
    "                mismatch_info.append(\n",
    "                    f\"{key}: pre={pre_props[key]}, ap={ap_props[key]}, pp={pp_props[key]}\"\n",
    "                )\n",
    "\n",
    "        match_flag = 0 if not mismatch_info else 1\n",
    "        results.append({\n",
    "            'PatientID': patient_id,\n",
    "            'Match': match_flag,\n",
    "            'MismatchDetail': ' | '.join(mismatch_info)\n",
    "        })\n",
    "\n",
    "    except Exception as e:\n",
    "        print(f\"[Error] {patient_id}: {e}\")\n",
    "        results.append({\n",
    "            'PatientID': patient_id,\n",
    "            'Match': 1,\n",
    "            'MismatchDetail': f\"Error: {e}\"\n",
    "        })\n",
    "\n",
    "# Save to CSV\n",
    "df = pd.DataFrame(results)\n",
    "df.to_csv(output_csv_path, index=False)\n",
    "print(f\"✅ Matching check completed and saved to {output_csv_path}\")\n"
   ]
  }
 ],
 "metadata": {
  "kernelspec": {
   "display_name": "img_processor",
   "language": "python",
   "name": "python3"
  },
  "language_info": {
   "codemirror_mode": {
    "name": "ipython",
    "version": 3
   },
   "file_extension": ".py",
   "mimetype": "text/x-python",
   "name": "python",
   "nbconvert_exporter": "python",
   "pygments_lexer": "ipython3",
   "version": "3.9.21"
  }
 },
 "nbformat": 4,
 "nbformat_minor": 2
}
