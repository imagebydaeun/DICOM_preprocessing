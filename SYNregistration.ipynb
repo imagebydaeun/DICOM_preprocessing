{
 "cells": [
  {
   "cell_type": "markdown",
   "metadata": {},
   "source": [
    "### This code assumes that pre.nrrd, AP.nrrd, and PP.nrrd for each patient already have **matching matrix sizes** and **physical space (origin/spacing/direction)**. "
   ]
  },
  {
   "cell_type": "code",
   "execution_count": 2,
   "metadata": {},
   "outputs": [
    {
     "name": "stdout",
     "output_type": "stream",
     "text": [
      "AntsPy version = 0.5.4\n",
      "SimpleITK version = 2.4.1\n"
     ]
    }
   ],
   "source": [
    "%matplotlib inline\n",
    "\n",
    "# from helpers import *\n",
    "import os\n",
    "import ants\n",
    "import SimpleITK as sitk\n",
    "from tqdm import tqdm\n",
    "import pandas as pd\n",
    "import shutil\n",
    "print(f'AntsPy version = {ants.__version__}')\n",
    "print(f'SimpleITK version = {sitk.__version__}')"
   ]
  },
  {
   "cell_type": "code",
   "execution_count": 4,
   "metadata": {},
   "outputs": [],
   "source": [
    "# Directories\n",
    "BASE_DIR = \"E://data//single_TARE_matchedwithresampling(PP_fixed)_temp\"\n",
    "OUTPUT_DIR = \"E://data//single_TARE_registered(PP_fixed)\"\n",
    "os.makedirs(OUTPUT_DIR, exist_ok=True)"
   ]
  },
  {
   "cell_type": "code",
   "execution_count": 5,
   "metadata": {},
   "outputs": [],
   "source": [
    "def nrrd_to_nifti_with_metadata(nrrd_path, out_path):\n",
    "    sitk_img = sitk.ReadImage(nrrd_path)\n",
    "    sitk.WriteImage(sitk_img, out_path)\n",
    "    return out_path\n",
    "\n",
    "def register_image(fixed_img_path, moving_img_path, output_path, transform_type='SyN'):\n",
    "    print(\"Fixed:\", fixed_img_path)\n",
    "    print(\"Moving:\", moving_img_path)\n",
    "\n",
    "    fixed = ants.image_read(fixed_img_path)\n",
    "    moving = ants.image_read(moving_img_path)\n",
    "\n",
    "    tx = ants.registration(fixed=fixed, moving=moving, type_of_transform=transform_type, verbose=True)\n",
    "    moved = ants.apply_transforms(fixed=fixed, moving=moving, transformlist=tx['fwdtransforms'])\n",
    "\n",
    "    moved.to_file(output_path)"
   ]
  },
  {
   "cell_type": "code",
   "execution_count": 6,
   "metadata": {},
   "outputs": [
    {
     "name": "stderr",
     "output_type": "stream",
     "text": [
      "  0%|          | 0/144 [00:00<?, ?it/s]"
     ]
    },
    {
     "name": "stdout",
     "output_type": "stream",
     "text": [
      "Fixed: E://data//single_TARE_matchedwithresampling(PP_fixed)_temp\\10026787\\PP.nii.gz\n",
      "Moving: E://data//single_TARE_matchedwithresampling(PP_fixed)_temp\\10026787\\pre.nii.gz\n",
      "antsRegistration -d 3 -r [00000239B04476C8,00000239B04478A8,1] -m mattes[00000239B04476C8,00000239B04478A8,1,32,regular,0.2] -t Affine[0.25] -c 2100x1200x1200x0 -s 3x2x1x0 -f 4x2x2x1 -x [NA,NA] -m mattes[00000239B04476C8,00000239B04478A8,1,32] -t SyN[0.200000,3.000000,0.000000] -c [40x20x0,1e-7,8] -s 2x1x0 -f 4x2x1 -u 1 -z 1 -o [C:\\Users\\jdc71\\AppData\\Local\\Temp\\tmpa1xmjeh0,00000239B04476A8,00000239B04477C8] -x [NA,NA] --float 1 --write-composite-transform 0 -v 1\n",
      "Fixed: E://data//single_TARE_matchedwithresampling(PP_fixed)_temp\\10026787\\PP.nii.gz\n",
      "Moving: E://data//single_TARE_matchedwithresampling(PP_fixed)_temp\\10026787\\AP.nii.gz\n",
      "antsRegistration -d 3 -r [00000239B04478C8,00000239B04476A8,1] -m mattes[00000239B04478C8,00000239B04476A8,1,32,regular,0.2] -t Affine[0.25] -c 2100x1200x1200x0 -s 3x2x1x0 -f 4x2x2x1 -x [NA,NA] -m mattes[00000239B04478C8,00000239B04476A8,1,32] -t SyN[0.200000,3.000000,0.000000] -c [40x20x0,1e-7,8] -s 2x1x0 -f 4x2x1 -u 1 -z 1 -o [C:\\Users\\jdc71\\AppData\\Local\\Temp\\tmp7nt_1g0w,00000239B0447908,00000239B0447608] -x [NA,NA] --float 1 --write-composite-transform 0 -v 1\n"
     ]
    },
    {
     "name": "stderr",
     "output_type": "stream",
     "text": [
      "  1%|          | 1/144 [33:09<79:01:24, 1989.40s/it]"
     ]
    },
    {
     "name": "stdout",
     "output_type": "stream",
     "text": [
      "Fixed: E://data//single_TARE_matchedwithresampling(PP_fixed)_temp\\10038816\\PP.nii.gz\n",
      "Moving: E://data//single_TARE_matchedwithresampling(PP_fixed)_temp\\10038816\\pre.nii.gz\n",
      "antsRegistration -d 3 -r [00000239B0447228,00000239B0447748,1] -m mattes[00000239B0447228,00000239B0447748,1,32,regular,0.2] -t Affine[0.25] -c 2100x1200x1200x0 -s 3x2x1x0 -f 4x2x2x1 -x [NA,NA] -m mattes[00000239B0447228,00000239B0447748,1,32] -t SyN[0.200000,3.000000,0.000000] -c [40x20x0,1e-7,8] -s 2x1x0 -f 4x2x1 -u 1 -z 1 -o [C:\\Users\\jdc71\\AppData\\Local\\Temp\\tmp1na2660g,00000239B04478A8,00000239B0447A08] -x [NA,NA] --float 1 --write-composite-transform 0 -v 1\n",
      "Fixed: E://data//single_TARE_matchedwithresampling(PP_fixed)_temp\\10038816\\PP.nii.gz\n",
      "Moving: E://data//single_TARE_matchedwithresampling(PP_fixed)_temp\\10038816\\AP.nii.gz\n",
      "antsRegistration -d 3 -r [00000239B04476C8,00000239B0447A48,1] -m mattes[00000239B04476C8,00000239B0447A48,1,32,regular,0.2] -t Affine[0.25] -c 2100x1200x1200x0 -s 3x2x1x0 -f 4x2x2x1 -x [NA,NA] -m mattes[00000239B04476C8,00000239B0447A48,1,32] -t SyN[0.200000,3.000000,0.000000] -c [40x20x0,1e-7,8] -s 2x1x0 -f 4x2x1 -u 1 -z 1 -o [C:\\Users\\jdc71\\AppData\\Local\\Temp\\tmp58c0qhg2,00000239B0447928,00000239B04476A8] -x [NA,NA] --float 1 --write-composite-transform 0 -v 1\n"
     ]
    },
    {
     "name": "stderr",
     "output_type": "stream",
     "text": [
      "  1%|▏         | 2/144 [1:05:25<77:14:34, 1958.27s/it]"
     ]
    },
    {
     "name": "stdout",
     "output_type": "stream",
     "text": [
      "Fixed: E://data//single_TARE_matchedwithresampling(PP_fixed)_temp\\10059241\\PP.nii.gz\n",
      "Moving: E://data//single_TARE_matchedwithresampling(PP_fixed)_temp\\10059241\\pre.nii.gz\n",
      "antsRegistration -d 3 -r [00000239B04478A8,00000239B04478C8,1] -m mattes[00000239B04478A8,00000239B04478C8,1,32,regular,0.2] -t Affine[0.25] -c 2100x1200x1200x0 -s 3x2x1x0 -f 4x2x2x1 -x [NA,NA] -m mattes[00000239B04478A8,00000239B04478C8,1,32] -t SyN[0.200000,3.000000,0.000000] -c [40x20x0,1e-7,8] -s 2x1x0 -f 4x2x1 -u 1 -z 1 -o [C:\\Users\\jdc71\\AppData\\Local\\Temp\\tmpi1xdq0so,00000239B0447B28,00000239B0447A88] -x [NA,NA] --float 1 --write-composite-transform 0 -v 1\n",
      "Fixed: E://data//single_TARE_matchedwithresampling(PP_fixed)_temp\\10059241\\PP.nii.gz\n",
      "Moving: E://data//single_TARE_matchedwithresampling(PP_fixed)_temp\\10059241\\AP.nii.gz\n",
      "antsRegistration -d 3 -r [00000239B0447928,00000239B0447A68,1] -m mattes[00000239B0447928,00000239B0447A68,1,32,regular,0.2] -t Affine[0.25] -c 2100x1200x1200x0 -s 3x2x1x0 -f 4x2x2x1 -x [NA,NA] -m mattes[00000239B0447928,00000239B0447A68,1,32] -t SyN[0.200000,3.000000,0.000000] -c [40x20x0,1e-7,8] -s 2x1x0 -f 4x2x1 -u 1 -z 1 -o [C:\\Users\\jdc71\\AppData\\Local\\Temp\\tmp1cpcz02_,00000239B0447AE8,00000239B0447AA8] -x [NA,NA] --float 1 --write-composite-transform 0 -v 1\n"
     ]
    },
    {
     "name": "stderr",
     "output_type": "stream",
     "text": [
      "  2%|▏         | 3/144 [1:28:36<66:33:15, 1699.26s/it]"
     ]
    },
    {
     "name": "stdout",
     "output_type": "stream",
     "text": [
      "Fixed: E://data//single_TARE_matchedwithresampling(PP_fixed)_temp\\10060066\\PP.nii.gz\n",
      "Moving: E://data//single_TARE_matchedwithresampling(PP_fixed)_temp\\10060066\\pre.nii.gz\n",
      "antsRegistration -d 3 -r [00000239B04476C8,00000239B0447228,1] -m mattes[00000239B04476C8,00000239B0447228,1,32,regular,0.2] -t Affine[0.25] -c 2100x1200x1200x0 -s 3x2x1x0 -f 4x2x2x1 -x [NA,NA] -m mattes[00000239B04476C8,00000239B0447228,1,32] -t SyN[0.200000,3.000000,0.000000] -c [40x20x0,1e-7,8] -s 2x1x0 -f 4x2x1 -u 1 -z 1 -o [C:\\Users\\jdc71\\AppData\\Local\\Temp\\tmpbuabo9ri,00000239B0447A68,00000239B04479C8] -x [NA,NA] --float 1 --write-composite-transform 0 -v 1\n",
      "Fixed: E://data//single_TARE_matchedwithresampling(PP_fixed)_temp\\10060066\\PP.nii.gz\n",
      "Moving: E://data//single_TARE_matchedwithresampling(PP_fixed)_temp\\10060066\\AP.nii.gz\n",
      "antsRegistration -d 3 -r [00000239B0447AA8,00000239B0447B28,1] -m mattes[00000239B0447AA8,00000239B0447B28,1,32,regular,0.2] -t Affine[0.25] -c 2100x1200x1200x0 -s 3x2x1x0 -f 4x2x2x1 -x [NA,NA] -m mattes[00000239B0447AA8,00000239B0447B28,1,32] -t SyN[0.200000,3.000000,0.000000] -c [40x20x0,1e-7,8] -s 2x1x0 -f 4x2x1 -u 1 -z 1 -o [C:\\Users\\jdc71\\AppData\\Local\\Temp\\tmp27ich6fa,00000239B04479E8,00000239B0447AC8] -x [NA,NA] --float 1 --write-composite-transform 0 -v 1\n"
     ]
    },
    {
     "name": "stderr",
     "output_type": "stream",
     "text": [
      "  3%|▎         | 4/144 [1:56:34<65:45:20, 1690.86s/it]"
     ]
    },
    {
     "name": "stdout",
     "output_type": "stream",
     "text": [
      "Fixed: E://data//single_TARE_matchedwithresampling(PP_fixed)_temp\\10076401\\PP.nii.gz\n",
      "Moving: E://data//single_TARE_matchedwithresampling(PP_fixed)_temp\\10076401\\pre.nii.gz\n",
      "antsRegistration -d 3 -r [00000239B0447228,00000239B0447A88,1] -m mattes[00000239B0447228,00000239B0447A88,1,32,regular,0.2] -t Affine[0.25] -c 2100x1200x1200x0 -s 3x2x1x0 -f 4x2x2x1 -x [NA,NA] -m mattes[00000239B0447228,00000239B0447A88,1,32] -t SyN[0.200000,3.000000,0.000000] -c [40x20x0,1e-7,8] -s 2x1x0 -f 4x2x1 -u 1 -z 1 -o [C:\\Users\\jdc71\\AppData\\Local\\Temp\\tmpyddmciph,00000239B0447AE8,00000239B04479A8] -x [NA,NA] --float 1 --write-composite-transform 0 -v 1\n",
      "Fixed: E://data//single_TARE_matchedwithresampling(PP_fixed)_temp\\10076401\\PP.nii.gz\n",
      "Moving: E://data//single_TARE_matchedwithresampling(PP_fixed)_temp\\10076401\\AP.nii.gz\n",
      "antsRegistration -d 3 -r [00000239B04476C8,00000239B04476A8,1] -m mattes[00000239B04476C8,00000239B04476A8,1,32,regular,0.2] -t Affine[0.25] -c 2100x1200x1200x0 -s 3x2x1x0 -f 4x2x2x1 -x [NA,NA] -m mattes[00000239B04476C8,00000239B04476A8,1,32] -t SyN[0.200000,3.000000,0.000000] -c [40x20x0,1e-7,8] -s 2x1x0 -f 4x2x1 -u 1 -z 1 -o [C:\\Users\\jdc71\\AppData\\Local\\Temp\\tmp9r_ox87j,00000239B0447A48,00000239B0447A08] -x [NA,NA] --float 1 --write-composite-transform 0 -v 1\n"
     ]
    },
    {
     "name": "stderr",
     "output_type": "stream",
     "text": [
      "  3%|▎         | 5/144 [2:30:14<69:51:23, 1809.23s/it]"
     ]
    },
    {
     "name": "stdout",
     "output_type": "stream",
     "text": [
      "Fixed: E://data//single_TARE_matchedwithresampling(PP_fixed)_temp\\10098257\\PP.nii.gz\n",
      "Moving: E://data//single_TARE_matchedwithresampling(PP_fixed)_temp\\10098257\\pre.nii.gz\n",
      "antsRegistration -d 3 -r [00000239B0447A48,00000239B0447B28,1] -m mattes[00000239B0447A48,00000239B0447B28,1,32,regular,0.2] -t Affine[0.25] -c 2100x1200x1200x0 -s 3x2x1x0 -f 4x2x2x1 -x [NA,NA] -m mattes[00000239B0447A48,00000239B0447B28,1,32] -t SyN[0.200000,3.000000,0.000000] -c [40x20x0,1e-7,8] -s 2x1x0 -f 4x2x1 -u 1 -z 1 -o [C:\\Users\\jdc71\\AppData\\Local\\Temp\\tmp6_d6bi48,00000239B04479E8,00000239B0447748] -x [NA,NA] --float 1 --write-composite-transform 0 -v 1\n",
      "Fixed: E://data//single_TARE_matchedwithresampling(PP_fixed)_temp\\10098257\\PP.nii.gz\n",
      "Moving: E://data//single_TARE_matchedwithresampling(PP_fixed)_temp\\10098257\\AP.nii.gz\n",
      "antsRegistration -d 3 -r [00000239B04479E8,00000239B04479A8,1] -m mattes[00000239B04479E8,00000239B04479A8,1,32,regular,0.2] -t Affine[0.25] -c 2100x1200x1200x0 -s 3x2x1x0 -f 4x2x2x1 -x [NA,NA] -m mattes[00000239B04479E8,00000239B04479A8,1,32] -t SyN[0.200000,3.000000,0.000000] -c [40x20x0,1e-7,8] -s 2x1x0 -f 4x2x1 -u 1 -z 1 -o [C:\\Users\\jdc71\\AppData\\Local\\Temp\\tmpcbqitink,00000239B0447A48,00000239B0447928] -x [NA,NA] --float 1 --write-composite-transform 0 -v 1\n"
     ]
    },
    {
     "name": "stderr",
     "output_type": "stream",
     "text": [
      "  4%|▍         | 6/144 [3:20:30<85:05:29, 2219.78s/it]"
     ]
    },
    {
     "name": "stdout",
     "output_type": "stream",
     "text": [
      "Fixed: E://data//single_TARE_matchedwithresampling(PP_fixed)_temp\\10118893\\PP.nii.gz\n",
      "Moving: E://data//single_TARE_matchedwithresampling(PP_fixed)_temp\\10118893\\pre.nii.gz\n",
      "antsRegistration -d 3 -r [00000239B04479E8,00000239B04476C8,1] -m mattes[00000239B04479E8,00000239B04476C8,1,32,regular,0.2] -t Affine[0.25] -c 2100x1200x1200x0 -s 3x2x1x0 -f 4x2x2x1 -x [NA,NA] -m mattes[00000239B04479E8,00000239B04476C8,1,32] -t SyN[0.200000,3.000000,0.000000] -c [40x20x0,1e-7,8] -s 2x1x0 -f 4x2x1 -u 1 -z 1 -o [C:\\Users\\jdc71\\AppData\\Local\\Temp\\tmp0k1_r9xw,00000239B0447AE8,00000239B0447228] -x [NA,NA] --float 1 --write-composite-transform 0 -v 1\n",
      "Fixed: E://data//single_TARE_matchedwithresampling(PP_fixed)_temp\\10118893\\PP.nii.gz\n",
      "Moving: E://data//single_TARE_matchedwithresampling(PP_fixed)_temp\\10118893\\AP.nii.gz\n",
      "antsRegistration -d 3 -r [00000239B0447A48,00000239B04476C8,1] -m mattes[00000239B0447A48,00000239B04476C8,1,32,regular,0.2] -t Affine[0.25] -c 2100x1200x1200x0 -s 3x2x1x0 -f 4x2x2x1 -x [NA,NA] -m mattes[00000239B0447A48,00000239B04476C8,1,32] -t SyN[0.200000,3.000000,0.000000] -c [40x20x0,1e-7,8] -s 2x1x0 -f 4x2x1 -u 1 -z 1 -o [C:\\Users\\jdc71\\AppData\\Local\\Temp\\tmpz5lixbb1,00000239B0447B08,00000239B0447AA8] -x [NA,NA] --float 1 --write-composite-transform 0 -v 1\n"
     ]
    },
    {
     "name": "stderr",
     "output_type": "stream",
     "text": [
      "  5%|▍         | 7/144 [4:21:41<102:31:57, 2694.29s/it]"
     ]
    },
    {
     "name": "stdout",
     "output_type": "stream",
     "text": [
      "Fixed: E://data//single_TARE_matchedwithresampling(PP_fixed)_temp\\10147985\\PP.nii.gz\n",
      "Moving: E://data//single_TARE_matchedwithresampling(PP_fixed)_temp\\10147985\\pre.nii.gz\n",
      "antsRegistration -d 3 -r [00000239B04479E8,00000239B0447928,1] -m mattes[00000239B04479E8,00000239B0447928,1,32,regular,0.2] -t Affine[0.25] -c 2100x1200x1200x0 -s 3x2x1x0 -f 4x2x2x1 -x [NA,NA] -m mattes[00000239B04479E8,00000239B0447928,1,32] -t SyN[0.200000,3.000000,0.000000] -c [40x20x0,1e-7,8] -s 2x1x0 -f 4x2x1 -u 1 -z 1 -o [C:\\Users\\jdc71\\AppData\\Local\\Temp\\tmpxwyu6i6w,00000239B0447B08,00000239B0447AA8] -x [NA,NA] --float 1 --write-composite-transform 0 -v 1\n",
      "Fixed: E://data//single_TARE_matchedwithresampling(PP_fixed)_temp\\10147985\\PP.nii.gz\n",
      "Moving: E://data//single_TARE_matchedwithresampling(PP_fixed)_temp\\10147985\\AP.nii.gz\n",
      "antsRegistration -d 3 -r [00000239B04476C8,00000239B0447AE8,1] -m mattes[00000239B04476C8,00000239B0447AE8,1,32,regular,0.2] -t Affine[0.25] -c 2100x1200x1200x0 -s 3x2x1x0 -f 4x2x2x1 -x [NA,NA] -m mattes[00000239B04476C8,00000239B0447AE8,1,32] -t SyN[0.200000,3.000000,0.000000] -c [40x20x0,1e-7,8] -s 2x1x0 -f 4x2x1 -u 1 -z 1 -o [C:\\Users\\jdc71\\AppData\\Local\\Temp\\tmpqko_plie,00000239B0447A08,00000239B04478C8] -x [NA,NA] --float 1 --write-composite-transform 0 -v 1\n"
     ]
    },
    {
     "name": "stderr",
     "output_type": "stream",
     "text": [
      "  6%|▌         | 8/144 [4:49:38<89:32:47, 2370.35s/it] "
     ]
    },
    {
     "name": "stdout",
     "output_type": "stream",
     "text": [
      "Fixed: E://data//single_TARE_matchedwithresampling(PP_fixed)_temp\\10157909\\PP.nii.gz\n",
      "Moving: E://data//single_TARE_matchedwithresampling(PP_fixed)_temp\\10157909\\pre.nii.gz\n",
      "antsRegistration -d 3 -r [00000239B0447B08,00000239B0447B48,1] -m mattes[00000239B0447B08,00000239B0447B48,1,32,regular,0.2] -t Affine[0.25] -c 2100x1200x1200x0 -s 3x2x1x0 -f 4x2x2x1 -x [NA,NA] -m mattes[00000239B0447B08,00000239B0447B48,1,32] -t SyN[0.200000,3.000000,0.000000] -c [40x20x0,1e-7,8] -s 2x1x0 -f 4x2x1 -u 1 -z 1 -o [C:\\Users\\jdc71\\AppData\\Local\\Temp\\tmpwg2l3qux,00000239B0447AE8,00000239B0447A88] -x [NA,NA] --float 1 --write-composite-transform 0 -v 1\n",
      "Fixed: E://data//single_TARE_matchedwithresampling(PP_fixed)_temp\\10157909\\PP.nii.gz\n",
      "Moving: E://data//single_TARE_matchedwithresampling(PP_fixed)_temp\\10157909\\AP.nii.gz\n",
      "antsRegistration -d 3 -r [00000239B0447928,00000239B04479A8,1] -m mattes[00000239B0447928,00000239B04479A8,1,32,regular,0.2] -t Affine[0.25] -c 2100x1200x1200x0 -s 3x2x1x0 -f 4x2x2x1 -x [NA,NA] -m mattes[00000239B0447928,00000239B04479A8,1,32] -t SyN[0.200000,3.000000,0.000000] -c [40x20x0,1e-7,8] -s 2x1x0 -f 4x2x1 -u 1 -z 1 -o [C:\\Users\\jdc71\\AppData\\Local\\Temp\\tmp04z20oun,00000239B04476C8,00000239B04479C8] -x [NA,NA] --float 1 --write-composite-transform 0 -v 1\n"
     ]
    },
    {
     "name": "stderr",
     "output_type": "stream",
     "text": [
      "  6%|▋         | 9/144 [5:25:09<86:04:30, 2295.34s/it]"
     ]
    },
    {
     "name": "stdout",
     "output_type": "stream",
     "text": [
      "Fixed: E://data//single_TARE_matchedwithresampling(PP_fixed)_temp\\10171647\\PP.nii.gz\n",
      "Moving: E://data//single_TARE_matchedwithresampling(PP_fixed)_temp\\10171647\\pre.nii.gz\n",
      "antsRegistration -d 3 -r [00000239B0447A88,00000239B0447B08,1] -m mattes[00000239B0447A88,00000239B0447B08,1,32,regular,0.2] -t Affine[0.25] -c 2100x1200x1200x0 -s 3x2x1x0 -f 4x2x2x1 -x [NA,NA] -m mattes[00000239B0447A88,00000239B0447B08,1,32] -t SyN[0.200000,3.000000,0.000000] -c [40x20x0,1e-7,8] -s 2x1x0 -f 4x2x1 -u 1 -z 1 -o [C:\\Users\\jdc71\\AppData\\Local\\Temp\\tmprg92zn0i,00000239B04476C8,00000239B04479A8] -x [NA,NA] --float 1 --write-composite-transform 0 -v 1\n",
      "Fixed: E://data//single_TARE_matchedwithresampling(PP_fixed)_temp\\10171647\\PP.nii.gz\n",
      "Moving: E://data//single_TARE_matchedwithresampling(PP_fixed)_temp\\10171647\\AP.nii.gz\n",
      "antsRegistration -d 3 -r [00000239B04476C8,00000239B0447A08,1] -m mattes[00000239B04476C8,00000239B0447A08,1,32,regular,0.2] -t Affine[0.25] -c 2100x1200x1200x0 -s 3x2x1x0 -f 4x2x2x1 -x [NA,NA] -m mattes[00000239B04476C8,00000239B0447A08,1,32] -t SyN[0.200000,3.000000,0.000000] -c [40x20x0,1e-7,8] -s 2x1x0 -f 4x2x1 -u 1 -z 1 -o [C:\\Users\\jdc71\\AppData\\Local\\Temp\\tmp55wun5j2,00000239B04478C8,00000239B0447B28] -x [NA,NA] --float 1 --write-composite-transform 0 -v 1\n"
     ]
    },
    {
     "name": "stderr",
     "output_type": "stream",
     "text": [
      "  7%|▋         | 10/144 [5:53:41<78:44:25, 2115.41s/it]"
     ]
    },
    {
     "name": "stdout",
     "output_type": "stream",
     "text": [
      "Fixed: E://data//single_TARE_matchedwithresampling(PP_fixed)_temp\\10213264\\PP.nii.gz\n",
      "Moving: E://data//single_TARE_matchedwithresampling(PP_fixed)_temp\\10213264\\pre.nii.gz\n",
      "antsRegistration -d 3 -r [00000239B0447748,00000239B0447AA8,1] -m mattes[00000239B0447748,00000239B0447AA8,1,32,regular,0.2] -t Affine[0.25] -c 2100x1200x1200x0 -s 3x2x1x0 -f 4x2x2x1 -x [NA,NA] -m mattes[00000239B0447748,00000239B0447AA8,1,32] -t SyN[0.200000,3.000000,0.000000] -c [40x20x0,1e-7,8] -s 2x1x0 -f 4x2x1 -u 1 -z 1 -o [C:\\Users\\jdc71\\AppData\\Local\\Temp\\tmpf5n7175g,00000239B04479C8,00000239B04478A8] -x [NA,NA] --float 1 --write-composite-transform 0 -v 1\n",
      "Fixed: E://data//single_TARE_matchedwithresampling(PP_fixed)_temp\\10213264\\PP.nii.gz\n",
      "Moving: E://data//single_TARE_matchedwithresampling(PP_fixed)_temp\\10213264\\AP.nii.gz\n",
      "antsRegistration -d 3 -r [00000239B04476C8,00000239B0447A88,1] -m mattes[00000239B04476C8,00000239B0447A88,1,32,regular,0.2] -t Affine[0.25] -c 2100x1200x1200x0 -s 3x2x1x0 -f 4x2x2x1 -x [NA,NA] -m mattes[00000239B04476C8,00000239B0447A88,1,32] -t SyN[0.200000,3.000000,0.000000] -c [40x20x0,1e-7,8] -s 2x1x0 -f 4x2x1 -u 1 -z 1 -o [C:\\Users\\jdc71\\AppData\\Local\\Temp\\tmpga_75osn,00000239B0447AC8,00000239B0447A68] -x [NA,NA] --float 1 --write-composite-transform 0 -v 1\n"
     ]
    },
    {
     "name": "stderr",
     "output_type": "stream",
     "text": [
      "  8%|▊         | 11/144 [6:22:26<73:43:58, 1995.78s/it]"
     ]
    },
    {
     "name": "stdout",
     "output_type": "stream",
     "text": [
      "Fixed: E://data//single_TARE_matchedwithresampling(PP_fixed)_temp\\10268918\\PP.nii.gz\n",
      "Moving: E://data//single_TARE_matchedwithresampling(PP_fixed)_temp\\10268918\\pre.nii.gz\n",
      "antsRegistration -d 3 -r [00000239B04478C8,00000239B04479E8,1] -m mattes[00000239B04478C8,00000239B04479E8,1,32,regular,0.2] -t Affine[0.25] -c 2100x1200x1200x0 -s 3x2x1x0 -f 4x2x2x1 -x [NA,NA] -m mattes[00000239B04478C8,00000239B04479E8,1,32] -t SyN[0.200000,3.000000,0.000000] -c [40x20x0,1e-7,8] -s 2x1x0 -f 4x2x1 -u 1 -z 1 -o [C:\\Users\\jdc71\\AppData\\Local\\Temp\\tmpg_n5wxbz,00000239B04479A8,00000239B0447B28] -x [NA,NA] --float 1 --write-composite-transform 0 -v 1\n",
      "Fixed: E://data//single_TARE_matchedwithresampling(PP_fixed)_temp\\10268918\\PP.nii.gz\n",
      "Moving: E://data//single_TARE_matchedwithresampling(PP_fixed)_temp\\10268918\\AP.nii.gz\n",
      "antsRegistration -d 3 -r [00000239B0447B08,00000239B0447AA8,1] -m mattes[00000239B0447B08,00000239B0447AA8,1,32,regular,0.2] -t Affine[0.25] -c 2100x1200x1200x0 -s 3x2x1x0 -f 4x2x2x1 -x [NA,NA] -m mattes[00000239B0447B08,00000239B0447AA8,1,32] -t SyN[0.200000,3.000000,0.000000] -c [40x20x0,1e-7,8] -s 2x1x0 -f 4x2x1 -u 1 -z 1 -o [C:\\Users\\jdc71\\AppData\\Local\\Temp\\tmp9ekt3exe,00000239B0447928,00000239B04476C8] -x [NA,NA] --float 1 --write-composite-transform 0 -v 1\n"
     ]
    },
    {
     "name": "stderr",
     "output_type": "stream",
     "text": [
      "  8%|▊         | 12/144 [6:47:13<67:30:30, 1841.14s/it]"
     ]
    },
    {
     "name": "stdout",
     "output_type": "stream",
     "text": [
      "Fixed: E://data//single_TARE_matchedwithresampling(PP_fixed)_temp\\10275032\\PP.nii.gz\n",
      "Moving: E://data//single_TARE_matchedwithresampling(PP_fixed)_temp\\10275032\\pre.nii.gz\n",
      "antsRegistration -d 3 -r [00000239B04479C8,00000239B0447A88,1] -m mattes[00000239B04479C8,00000239B0447A88,1,32,regular,0.2] -t Affine[0.25] -c 2100x1200x1200x0 -s 3x2x1x0 -f 4x2x2x1 -x [NA,NA] -m mattes[00000239B04479C8,00000239B0447A88,1,32] -t SyN[0.200000,3.000000,0.000000] -c [40x20x0,1e-7,8] -s 2x1x0 -f 4x2x1 -u 1 -z 1 -o [C:\\Users\\jdc71\\AppData\\Local\\Temp\\tmppjf_zhoe,00000239B04479A8,00000239B0447928] -x [NA,NA] --float 1 --write-composite-transform 0 -v 1\n",
      "Fixed: E://data//single_TARE_matchedwithresampling(PP_fixed)_temp\\10275032\\PP.nii.gz\n",
      "Moving: E://data//single_TARE_matchedwithresampling(PP_fixed)_temp\\10275032\\AP.nii.gz\n",
      "antsRegistration -d 3 -r [00000239B0447228,00000239B0447B28,1] -m mattes[00000239B0447228,00000239B0447B28,1,32,regular,0.2] -t Affine[0.25] -c 2100x1200x1200x0 -s 3x2x1x0 -f 4x2x2x1 -x [NA,NA] -m mattes[00000239B0447228,00000239B0447B28,1,32] -t SyN[0.200000,3.000000,0.000000] -c [40x20x0,1e-7,8] -s 2x1x0 -f 4x2x1 -u 1 -z 1 -o [C:\\Users\\jdc71\\AppData\\Local\\Temp\\tmpr300_gp4,00000239B0447AA8,00000239B04479A8] -x [NA,NA] --float 1 --write-composite-transform 0 -v 1\n"
     ]
    },
    {
     "name": "stderr",
     "output_type": "stream",
     "text": [
      "  9%|▉         | 13/144 [7:13:57<64:23:03, 1769.34s/it]"
     ]
    },
    {
     "name": "stdout",
     "output_type": "stream",
     "text": [
      "Fixed: E://data//single_TARE_matchedwithresampling(PP_fixed)_temp\\10276706\\PP.nii.gz\n",
      "Moving: E://data//single_TARE_matchedwithresampling(PP_fixed)_temp\\10276706\\pre.nii.gz\n",
      "antsRegistration -d 3 -r [00000239B0447AA8,00000239B04476A8,1] -m mattes[00000239B0447AA8,00000239B04476A8,1,32,regular,0.2] -t Affine[0.25] -c 2100x1200x1200x0 -s 3x2x1x0 -f 4x2x2x1 -x [NA,NA] -m mattes[00000239B0447AA8,00000239B04476A8,1,32] -t SyN[0.200000,3.000000,0.000000] -c [40x20x0,1e-7,8] -s 2x1x0 -f 4x2x1 -u 1 -z 1 -o [C:\\Users\\jdc71\\AppData\\Local\\Temp\\tmpv3ev18bh,00000239B0447A88,00000239B04478A8] -x [NA,NA] --float 1 --write-composite-transform 0 -v 1\n",
      "Fixed: E://data//single_TARE_matchedwithresampling(PP_fixed)_temp\\10276706\\PP.nii.gz\n",
      "Moving: E://data//single_TARE_matchedwithresampling(PP_fixed)_temp\\10276706\\AP.nii.gz\n",
      "antsRegistration -d 3 -r [00000239B0447AC8,00000239B0447B08,1] -m mattes[00000239B0447AC8,00000239B0447B08,1,32,regular,0.2] -t Affine[0.25] -c 2100x1200x1200x0 -s 3x2x1x0 -f 4x2x2x1 -x [NA,NA] -m mattes[00000239B0447AC8,00000239B0447B08,1,32] -t SyN[0.200000,3.000000,0.000000] -c [40x20x0,1e-7,8] -s 2x1x0 -f 4x2x1 -u 1 -z 1 -o [C:\\Users\\jdc71\\AppData\\Local\\Temp\\tmplkysn9qo,00000239B0447928,00000239B04479C8] -x [NA,NA] --float 1 --write-composite-transform 0 -v 1\n"
     ]
    },
    {
     "name": "stderr",
     "output_type": "stream",
     "text": [
      " 10%|▉         | 14/144 [7:37:45<60:10:18, 1666.29s/it]"
     ]
    },
    {
     "name": "stdout",
     "output_type": "stream",
     "text": [
      "Fixed: E://data//single_TARE_matchedwithresampling(PP_fixed)_temp\\1028405\\PP.nii.gz\n",
      "Moving: E://data//single_TARE_matchedwithresampling(PP_fixed)_temp\\1028405\\pre.nii.gz\n",
      "antsRegistration -d 3 -r [00000239B04478C8,00000239B0447AE8,1] -m mattes[00000239B04478C8,00000239B0447AE8,1,32,regular,0.2] -t Affine[0.25] -c 2100x1200x1200x0 -s 3x2x1x0 -f 4x2x2x1 -x [NA,NA] -m mattes[00000239B04478C8,00000239B0447AE8,1,32] -t SyN[0.200000,3.000000,0.000000] -c [40x20x0,1e-7,8] -s 2x1x0 -f 4x2x1 -u 1 -z 1 -o [C:\\Users\\jdc71\\AppData\\Local\\Temp\\tmpwkm_ojha,00000239B0447A08,00000239B0447AC8] -x [NA,NA] --float 1 --write-composite-transform 0 -v 1\n",
      "Fixed: E://data//single_TARE_matchedwithresampling(PP_fixed)_temp\\1028405\\PP.nii.gz\n",
      "Moving: E://data//single_TARE_matchedwithresampling(PP_fixed)_temp\\1028405\\AP.nii.gz\n",
      "antsRegistration -d 3 -r [00000239B04476C8,00000239B0447BA8,1] -m mattes[00000239B04476C8,00000239B0447BA8,1,32,regular,0.2] -t Affine[0.25] -c 2100x1200x1200x0 -s 3x2x1x0 -f 4x2x2x1 -x [NA,NA] -m mattes[00000239B04476C8,00000239B0447BA8,1,32] -t SyN[0.200000,3.000000,0.000000] -c [40x20x0,1e-7,8] -s 2x1x0 -f 4x2x1 -u 1 -z 1 -o [C:\\Users\\jdc71\\AppData\\Local\\Temp\\tmpe7teo00p,00000239B0447928,00000239B0447A48] -x [NA,NA] --float 1 --write-composite-transform 0 -v 1\n"
     ]
    },
    {
     "name": "stderr",
     "output_type": "stream",
     "text": [
      " 10%|█         | 15/144 [8:04:09<58:48:54, 1641.35s/it]"
     ]
    },
    {
     "name": "stdout",
     "output_type": "stream",
     "text": [
      "Fixed: E://data//single_TARE_matchedwithresampling(PP_fixed)_temp\\10290543\\PP.nii.gz\n",
      "Moving: E://data//single_TARE_matchedwithresampling(PP_fixed)_temp\\10290543\\pre.nii.gz\n",
      "antsRegistration -d 3 -r [00000239B0447228,00000239B04476A8,1] -m mattes[00000239B0447228,00000239B04476A8,1,32,regular,0.2] -t Affine[0.25] -c 2100x1200x1200x0 -s 3x2x1x0 -f 4x2x2x1 -x [NA,NA] -m mattes[00000239B0447228,00000239B04476A8,1,32] -t SyN[0.200000,3.000000,0.000000] -c [40x20x0,1e-7,8] -s 2x1x0 -f 4x2x1 -u 1 -z 1 -o [C:\\Users\\jdc71\\AppData\\Local\\Temp\\tmp3d_7ov7m,00000239B0447B88,00000239B04479E8] -x [NA,NA] --float 1 --write-composite-transform 0 -v 1\n",
      "Fixed: E://data//single_TARE_matchedwithresampling(PP_fixed)_temp\\10290543\\PP.nii.gz\n",
      "Moving: E://data//single_TARE_matchedwithresampling(PP_fixed)_temp\\10290543\\AP.nii.gz\n",
      "antsRegistration -d 3 -r [00000239B04478C8,00000239B0447BA8,1] -m mattes[00000239B04478C8,00000239B0447BA8,1,32,regular,0.2] -t Affine[0.25] -c 2100x1200x1200x0 -s 3x2x1x0 -f 4x2x2x1 -x [NA,NA] -m mattes[00000239B04478C8,00000239B0447BA8,1,32] -t SyN[0.200000,3.000000,0.000000] -c [40x20x0,1e-7,8] -s 2x1x0 -f 4x2x1 -u 1 -z 1 -o [C:\\Users\\jdc71\\AppData\\Local\\Temp\\tmp0wzlzjiy,00000239B04479A8,00000239B0447928] -x [NA,NA] --float 1 --write-composite-transform 0 -v 1\n"
     ]
    },
    {
     "name": "stderr",
     "output_type": "stream",
     "text": [
      " 11%|█         | 16/144 [8:26:18<55:01:17, 1547.48s/it]"
     ]
    },
    {
     "name": "stdout",
     "output_type": "stream",
     "text": [
      "Fixed: E://data//single_TARE_matchedwithresampling(PP_fixed)_temp\\10291341\\PP.nii.gz\n",
      "Moving: E://data//single_TARE_matchedwithresampling(PP_fixed)_temp\\10291341\\pre.nii.gz\n",
      "antsRegistration -d 3 -r [00000239B0447A48,00000239B0447B68,1] -m mattes[00000239B0447A48,00000239B0447B68,1,32,regular,0.2] -t Affine[0.25] -c 2100x1200x1200x0 -s 3x2x1x0 -f 4x2x2x1 -x [NA,NA] -m mattes[00000239B0447A48,00000239B0447B68,1,32] -t SyN[0.200000,3.000000,0.000000] -c [40x20x0,1e-7,8] -s 2x1x0 -f 4x2x1 -u 1 -z 1 -o [C:\\Users\\jdc71\\AppData\\Local\\Temp\\tmp7wrrhovs,00000239B0447A08,00000239B04476A8] -x [NA,NA] --float 1 --write-composite-transform 0 -v 1\n",
      "Fixed: E://data//single_TARE_matchedwithresampling(PP_fixed)_temp\\10291341\\PP.nii.gz\n",
      "Moving: E://data//single_TARE_matchedwithresampling(PP_fixed)_temp\\10291341\\AP.nii.gz\n",
      "antsRegistration -d 3 -r [00000239B0447A08,00000239B04476A8,1] -m mattes[00000239B0447A08,00000239B04476A8,1,32,regular,0.2] -t Affine[0.25] -c 2100x1200x1200x0 -s 3x2x1x0 -f 4x2x2x1 -x [NA,NA] -m mattes[00000239B0447A08,00000239B04476A8,1,32] -t SyN[0.200000,3.000000,0.000000] -c [40x20x0,1e-7,8] -s 2x1x0 -f 4x2x1 -u 1 -z 1 -o [C:\\Users\\jdc71\\AppData\\Local\\Temp\\tmp8mlskzvp,00000239B0447B88,00000239B0447B68] -x [NA,NA] --float 1 --write-composite-transform 0 -v 1\n"
     ]
    },
    {
     "name": "stderr",
     "output_type": "stream",
     "text": [
      " 12%|█▏        | 17/144 [8:56:14<57:13:39, 1622.20s/it]"
     ]
    },
    {
     "name": "stdout",
     "output_type": "stream",
     "text": [
      "Fixed: E://data//single_TARE_matchedwithresampling(PP_fixed)_temp\\10324428\\PP.nii.gz\n",
      "Moving: E://data//single_TARE_matchedwithresampling(PP_fixed)_temp\\10324428\\pre.nii.gz\n"
     ]
    },
    {
     "name": "stderr",
     "output_type": "stream",
     "text": [
      " 12%|█▎        | 18/144 [9:10:11<48:31:08, 1386.26s/it]"
     ]
    },
    {
     "name": "stdout",
     "output_type": "stream",
     "text": [
      "antsRegistration -d 3 -r [00000239B04476C8,00000239B0447AC8,1] -m mattes[00000239B04476C8,00000239B0447AC8,1,32,regular,0.2] -t Affine[0.25] -c 2100x1200x1200x0 -s 3x2x1x0 -f 4x2x2x1 -x [NA,NA] -m mattes[00000239B04476C8,00000239B0447AC8,1,32] -t SyN[0.200000,3.000000,0.000000] -c [40x20x0,1e-7,8] -s 2x1x0 -f 4x2x1 -u 1 -z 1 -o [C:\\Users\\jdc71\\AppData\\Local\\Temp\\tmplpdvv3gn,00000239B0447B28,00000239B04479E8] -x [NA,NA] --float 1 --write-composite-transform 0 -v 1\n",
      "[Error] 10324428: bad allocation\n",
      "Fixed: E://data//single_TARE_matchedwithresampling(PP_fixed)_temp\\10339939\\PP.nii.gz\n",
      "Moving: E://data//single_TARE_matchedwithresampling(PP_fixed)_temp\\10339939\\pre.nii.gz\n",
      "antsRegistration -d 3 -r [00000239B04478A8,00000239B04476C8,1] -m mattes[00000239B04478A8,00000239B04476C8,1,32,regular,0.2] -t Affine[0.25] -c 2100x1200x1200x0 -s 3x2x1x0 -f 4x2x2x1 -x [NA,NA] -m mattes[00000239B04478A8,00000239B04476C8,1,32] -t SyN[0.200000,3.000000,0.000000] -c [40x20x0,1e-7,8] -s 2x1x0 -f 4x2x1 -u 1 -z 1 -o [C:\\Users\\jdc71\\AppData\\Local\\Temp\\tmp362gwcon,00000239B0447A88,00000239B04479C8] -x [NA,NA] --float 1 --write-composite-transform 0 -v 1\n",
      "Fixed: E://data//single_TARE_matchedwithresampling(PP_fixed)_temp\\10339939\\PP.nii.gz\n",
      "Moving: E://data//single_TARE_matchedwithresampling(PP_fixed)_temp\\10339939\\AP.nii.gz\n",
      "antsRegistration -d 3 -r [00000239B0447A48,00000239B0447B88,1] -m mattes[00000239B0447A48,00000239B0447B88,1,32,regular,0.2] -t Affine[0.25] -c 2100x1200x1200x0 -s 3x2x1x0 -f 4x2x2x1 -x [NA,NA] -m mattes[00000239B0447A48,00000239B0447B88,1,32] -t SyN[0.200000,3.000000,0.000000] -c [40x20x0,1e-7,8] -s 2x1x0 -f 4x2x1 -u 1 -z 1 -o [C:\\Users\\jdc71\\AppData\\Local\\Temp\\tmp7matu1n0,00000239B0447B68,00000239B0447B08] -x [NA,NA] --float 1 --write-composite-transform 0 -v 1\n"
     ]
    },
    {
     "name": "stderr",
     "output_type": "stream",
     "text": [
      " 13%|█▎        | 19/144 [9:37:00<50:27:19, 1453.12s/it]"
     ]
    },
    {
     "name": "stdout",
     "output_type": "stream",
     "text": [
      "Fixed: E://data//single_TARE_matchedwithresampling(PP_fixed)_temp\\10387226\\PP.nii.gz\n",
      "Moving: E://data//single_TARE_matchedwithresampling(PP_fixed)_temp\\10387226\\pre.nii.gz\n",
      "antsRegistration -d 3 -r [00000239B04478C8,00000239B04479A8,1] -m mattes[00000239B04478C8,00000239B04479A8,1,32,regular,0.2] -t Affine[0.25] -c 2100x1200x1200x0 -s 3x2x1x0 -f 4x2x2x1 -x [NA,NA] -m mattes[00000239B04478C8,00000239B04479A8,1,32] -t SyN[0.200000,3.000000,0.000000] -c [40x20x0,1e-7,8] -s 2x1x0 -f 4x2x1 -u 1 -z 1 -o [C:\\Users\\jdc71\\AppData\\Local\\Temp\\tmp3kmwidsz,00000239B0447BA8,00000239B04478A8] -x [NA,NA] --float 1 --write-composite-transform 0 -v 1\n",
      "Fixed: E://data//single_TARE_matchedwithresampling(PP_fixed)_temp\\10387226\\PP.nii.gz\n",
      "Moving: E://data//single_TARE_matchedwithresampling(PP_fixed)_temp\\10387226\\AP.nii.gz\n",
      "antsRegistration -d 3 -r [00000239B04479E8,00000239B0447AA8,1] -m mattes[00000239B04479E8,00000239B0447AA8,1,32,regular,0.2] -t Affine[0.25] -c 2100x1200x1200x0 -s 3x2x1x0 -f 4x2x2x1 -x [NA,NA] -m mattes[00000239B04479E8,00000239B0447AA8,1,32] -t SyN[0.200000,3.000000,0.000000] -c [40x20x0,1e-7,8] -s 2x1x0 -f 4x2x1 -u 1 -z 1 -o [C:\\Users\\jdc71\\AppData\\Local\\Temp\\tmpcs_gfws_,00000239B0447BC8,00000239B0447AE8] -x [NA,NA] --float 1 --write-composite-transform 0 -v 1\n"
     ]
    },
    {
     "name": "stderr",
     "output_type": "stream",
     "text": [
      " 14%|█▍        | 20/144 [10:03:09<51:14:47, 1487.80s/it]"
     ]
    },
    {
     "name": "stdout",
     "output_type": "stream",
     "text": [
      "Fixed: E://data//single_TARE_matchedwithresampling(PP_fixed)_temp\\10397968\\PP.nii.gz\n",
      "Moving: E://data//single_TARE_matchedwithresampling(PP_fixed)_temp\\10397968\\pre.nii.gz\n"
     ]
    },
    {
     "name": "stderr",
     "output_type": "stream",
     "text": [
      " 15%|█▍        | 21/144 [10:17:55<44:39:37, 1307.14s/it]"
     ]
    },
    {
     "name": "stdout",
     "output_type": "stream",
     "text": [
      "antsRegistration -d 3 -r [00000239B0447A08,00000239B0447BE8,1] -m mattes[00000239B0447A08,00000239B0447BE8,1,32,regular,0.2] -t Affine[0.25] -c 2100x1200x1200x0 -s 3x2x1x0 -f 4x2x2x1 -x [NA,NA] -m mattes[00000239B0447A08,00000239B0447BE8,1,32] -t SyN[0.200000,3.000000,0.000000] -c [40x20x0,1e-7,8] -s 2x1x0 -f 4x2x1 -u 1 -z 1 -o [C:\\Users\\jdc71\\AppData\\Local\\Temp\\tmpyox5e58m,00000239B04476C8,00000239B0447B08] -x [NA,NA] --float 1 --write-composite-transform 0 -v 1\n",
      "[Error] 10397968: Registration failed with error code 1\n",
      "Fixed: E://data//single_TARE_matchedwithresampling(PP_fixed)_temp\\10413698\\PP.nii.gz\n",
      "Moving: E://data//single_TARE_matchedwithresampling(PP_fixed)_temp\\10413698\\pre.nii.gz\n"
     ]
    },
    {
     "name": "stderr",
     "output_type": "stream",
     "text": [
      " 15%|█▌        | 22/144 [10:33:18<40:23:31, 1191.90s/it]"
     ]
    },
    {
     "name": "stdout",
     "output_type": "stream",
     "text": [
      "antsRegistration -d 3 -r [00000239B0447BA8,00000239B0447B68,1] -m mattes[00000239B0447BA8,00000239B0447B68,1,32,regular,0.2] -t Affine[0.25] -c 2100x1200x1200x0 -s 3x2x1x0 -f 4x2x2x1 -x [NA,NA] -m mattes[00000239B0447BA8,00000239B0447B68,1,32] -t SyN[0.200000,3.000000,0.000000] -c [40x20x0,1e-7,8] -s 2x1x0 -f 4x2x1 -u 1 -z 1 -o [C:\\Users\\jdc71\\AppData\\Local\\Temp\\tmp6maruu8b,00000239B0447A88,00000239B0447BE8] -x [NA,NA] --float 1 --write-composite-transform 0 -v 1\n",
      "[Error] 10413698: Registration failed with error code 1\n",
      "Fixed: E://data//single_TARE_matchedwithresampling(PP_fixed)_temp\\10453364\\PP.nii.gz\n",
      "Moving: E://data//single_TARE_matchedwithresampling(PP_fixed)_temp\\10453364\\pre.nii.gz\n"
     ]
    },
    {
     "name": "stderr",
     "output_type": "stream",
     "text": [
      " 16%|█▌        | 23/144 [10:39:51<32:00:22, 952.25s/it] "
     ]
    },
    {
     "name": "stdout",
     "output_type": "stream",
     "text": [
      "antsRegistration -d 3 -r [00000239B0447BA8,00000239B0447BE8,1] -m mattes[00000239B0447BA8,00000239B0447BE8,1,32,regular,0.2] -t Affine[0.25] -c 2100x1200x1200x0 -s 3x2x1x0 -f 4x2x2x1 -x [NA,NA] -m mattes[00000239B0447BA8,00000239B0447BE8,1,32] -t SyN[0.200000,3.000000,0.000000] -c [40x20x0,1e-7,8] -s 2x1x0 -f 4x2x1 -u 1 -z 1 -o [C:\\Users\\jdc71\\AppData\\Local\\Temp\\tmpl5px0dvf,00000239B04478C8,00000239B04479C8] -x [NA,NA] --float 1 --write-composite-transform 0 -v 1\n",
      "[Error] 10453364: Registration failed with error code 1\n",
      "Fixed: E://data//single_TARE_matchedwithresampling(PP_fixed)_temp\\10487381\\PP.nii.gz\n",
      "Moving: E://data//single_TARE_matchedwithresampling(PP_fixed)_temp\\10487381\\pre.nii.gz\n"
     ]
    },
    {
     "name": "stderr",
     "output_type": "stream",
     "text": [
      " 17%|█▋        | 24/144 [10:51:33<29:14:19, 877.16s/it]"
     ]
    },
    {
     "name": "stdout",
     "output_type": "stream",
     "text": [
      "antsRegistration -d 3 -r [00000239B04479C8,00000239B0447A48,1] -m mattes[00000239B04479C8,00000239B0447A48,1,32,regular,0.2] -t Affine[0.25] -c 2100x1200x1200x0 -s 3x2x1x0 -f 4x2x2x1 -x [NA,NA] -m mattes[00000239B04479C8,00000239B0447A48,1,32] -t SyN[0.200000,3.000000,0.000000] -c [40x20x0,1e-7,8] -s 2x1x0 -f 4x2x1 -u 1 -z 1 -o [C:\\Users\\jdc71\\AppData\\Local\\Temp\\tmpxvqyq_hb,00000239B04476C8,00000239B0447BC8] -x [NA,NA] --float 1 --write-composite-transform 0 -v 1\n",
      "[Error] 10487381: Registration failed with error code 1\n",
      "Fixed: E://data//single_TARE_matchedwithresampling(PP_fixed)_temp\\10495219\\PP.nii.gz\n",
      "Moving: E://data//single_TARE_matchedwithresampling(PP_fixed)_temp\\10495219\\pre.nii.gz\n"
     ]
    },
    {
     "name": "stderr",
     "output_type": "stream",
     "text": [
      " 17%|█▋        | 25/144 [11:01:12<26:01:54, 787.52s/it]"
     ]
    },
    {
     "name": "stdout",
     "output_type": "stream",
     "text": [
      "antsRegistration -d 3 -r [00000239B0447BA8,00000239B0447BC8,1] -m mattes[00000239B0447BA8,00000239B0447BC8,1,32,regular,0.2] -t Affine[0.25] -c 2100x1200x1200x0 -s 3x2x1x0 -f 4x2x2x1 -x [NA,NA] -m mattes[00000239B0447BA8,00000239B0447BC8,1,32] -t SyN[0.200000,3.000000,0.000000] -c [40x20x0,1e-7,8] -s 2x1x0 -f 4x2x1 -u 1 -z 1 -o [C:\\Users\\jdc71\\AppData\\Local\\Temp\\tmpn16nfj9x,00000239B0447A08,00000239B0447B08] -x [NA,NA] --float 1 --write-composite-transform 0 -v 1\n",
      "[Error] 10495219: Registration failed with error code 1\n",
      "Fixed: E://data//single_TARE_matchedwithresampling(PP_fixed)_temp\\10509343\\PP.nii.gz\n",
      "Moving: E://data//single_TARE_matchedwithresampling(PP_fixed)_temp\\10509343\\pre.nii.gz\n",
      "antsRegistration -d 3 -r [00000239B0447BA8,00000239B0447BE8,1] -m mattes[00000239B0447BA8,00000239B0447BE8,1,32,regular,0.2] -t Affine[0.25] -c 2100x1200x1200x0 -s 3x2x1x0 -f 4x2x2x1 -x [NA,NA] -m mattes[00000239B0447BA8,00000239B0447BE8,1,32] -t SyN[0.200000,3.000000,0.000000] -c [40x20x0,1e-7,8] -s 2x1x0 -f 4x2x1 -u 1 -z 1 -o [C:\\Users\\jdc71\\AppData\\Local\\Temp\\tmp0_pqc31n,00000239B0447B28,00000239B04476C8] -x [NA,NA] --float 1 --write-composite-transform 0 -v 1\n",
      "Fixed: E://data//single_TARE_matchedwithresampling(PP_fixed)_temp\\10509343\\PP.nii.gz\n",
      "Moving: E://data//single_TARE_matchedwithresampling(PP_fixed)_temp\\10509343\\AP.nii.gz\n"
     ]
    },
    {
     "name": "stderr",
     "output_type": "stream",
     "text": [
      " 18%|█▊        | 26/144 [11:17:25<27:38:26, 843.28s/it]"
     ]
    },
    {
     "name": "stdout",
     "output_type": "stream",
     "text": [
      "antsRegistration -d 3 -r [00000239B0447928,00000239B04478C8,1] -m mattes[00000239B0447928,00000239B04478C8,1,32,regular,0.2] -t Affine[0.25] -c 2100x1200x1200x0 -s 3x2x1x0 -f 4x2x2x1 -x [NA,NA] -m mattes[00000239B0447928,00000239B04478C8,1,32] -t SyN[0.200000,3.000000,0.000000] -c [40x20x0,1e-7,8] -s 2x1x0 -f 4x2x1 -u 1 -z 1 -o [C:\\Users\\jdc71\\AppData\\Local\\Temp\\tmpjqfwxec3,00000239B0447B88,00000239B04479C8] -x [NA,NA] --float 1 --write-composite-transform 0 -v 1\n",
      "[Error] 10509343: Registration failed with error code 1\n",
      "Fixed: E://data//single_TARE_matchedwithresampling(PP_fixed)_temp\\10521847\\PP.nii.gz\n",
      "Moving: E://data//single_TARE_matchedwithresampling(PP_fixed)_temp\\10521847\\pre.nii.gz\n"
     ]
    },
    {
     "name": "stderr",
     "output_type": "stream",
     "text": [
      " 19%|█▉        | 27/144 [11:25:25<23:51:57, 734.34s/it]"
     ]
    },
    {
     "name": "stdout",
     "output_type": "stream",
     "text": [
      "antsRegistration -d 3 -r [00000239B04479E8,00000239B04479C8,1] -m mattes[00000239B04479E8,00000239B04479C8,1,32,regular,0.2] -t Affine[0.25] -c 2100x1200x1200x0 -s 3x2x1x0 -f 4x2x2x1 -x [NA,NA] -m mattes[00000239B04479E8,00000239B04479C8,1,32] -t SyN[0.200000,3.000000,0.000000] -c [40x20x0,1e-7,8] -s 2x1x0 -f 4x2x1 -u 1 -z 1 -o [C:\\Users\\jdc71\\AppData\\Local\\Temp\\tmp57dovs8h,00000239B0447AA8,00000239B0447B88] -x [NA,NA] --float 1 --write-composite-transform 0 -v 1\n",
      "[Error] 10521847: Registration failed with error code 1\n",
      "Fixed: E://data//single_TARE_matchedwithresampling(PP_fixed)_temp\\10531491\\PP.nii.gz\n",
      "Moving: E://data//single_TARE_matchedwithresampling(PP_fixed)_temp\\10531491\\pre.nii.gz\n",
      "antsRegistration -d 3 -r [00000239B04479E8,00000239B0447A08,1] -m mattes[00000239B04479E8,00000239B0447A08,1,32,regular,0.2] -t Affine[0.25] -c 2100x1200x1200x0 -s 3x2x1x0 -f 4x2x2x1 -x [NA,NA] -m mattes[00000239B04479E8,00000239B0447A08,1,32] -t SyN[0.200000,3.000000,0.000000] -c [40x20x0,1e-7,8] -s 2x1x0 -f 4x2x1 -u 1 -z 1 -o [C:\\Users\\jdc71\\AppData\\Local\\Temp\\tmp7940iby6,00000239B04478C8,00000239B0447B68] -x [NA,NA] --float 1 --write-composite-transform 0 -v 1\n",
      "Fixed: E://data//single_TARE_matchedwithresampling(PP_fixed)_temp\\10531491\\PP.nii.gz\n",
      "Moving: E://data//single_TARE_matchedwithresampling(PP_fixed)_temp\\10531491\\AP.nii.gz\n",
      "antsRegistration -d 3 -r [00000239B0447A48,00000239B0447BE8,1] -m mattes[00000239B0447A48,00000239B0447BE8,1,32,regular,0.2] -t Affine[0.25] -c 2100x1200x1200x0 -s 3x2x1x0 -f 4x2x2x1 -x [NA,NA] -m mattes[00000239B0447A48,00000239B0447BE8,1,32] -t SyN[0.200000,3.000000,0.000000] -c [40x20x0,1e-7,8] -s 2x1x0 -f 4x2x1 -u 1 -z 1 -o [C:\\Users\\jdc71\\AppData\\Local\\Temp\\tmpz_wii39l,00000239B04479E8,00000239B04476C8] -x [NA,NA] --float 1 --write-composite-transform 0 -v 1\n"
     ]
    },
    {
     "name": "stderr",
     "output_type": "stream",
     "text": [
      " 19%|█▉        | 28/144 [11:33:57<21:30:29, 667.49s/it]"
     ]
    },
    {
     "name": "stdout",
     "output_type": "stream",
     "text": [
      "Fixed: E://data//single_TARE_matchedwithresampling(PP_fixed)_temp\\10564416\\PP.nii.gz\n",
      "Moving: E://data//single_TARE_matchedwithresampling(PP_fixed)_temp\\10564416\\pre.nii.gz\n"
     ]
    },
    {
     "name": "stderr",
     "output_type": "stream",
     "text": [
      "100%|██████████| 144/144 [11:48:09<00:00, 295.07s/it]  "
     ]
    },
    {
     "name": "stdout",
     "output_type": "stream",
     "text": [
      "antsRegistration -d 3 -r [00000239B0447A88,00000239B04479C8,1] -m mattes[00000239B0447A88,00000239B04479C8,1,32,regular,0.2] -t Affine[0.25] -c 2100x1200x1200x0 -s 3x2x1x0 -f 4x2x2x1 -x [NA,NA] -m mattes[00000239B0447A88,00000239B04479C8,1,32] -t SyN[0.200000,3.000000,0.000000] -c [40x20x0,1e-7,8] -s 2x1x0 -f 4x2x1 -u 1 -z 1 -o [C:\\Users\\jdc71\\AppData\\Local\\Temp\\tmp36gjuodw,00000239B0447BE8,00000239B0447B68] -x [NA,NA] --float 1 --write-composite-transform 0 -v 1\n",
      "[Error] 10564416: Registration failed with error code 1\n"
     ]
    },
    {
     "name": "stderr",
     "output_type": "stream",
     "text": [
      "\n"
     ]
    }
   ],
   "source": [
    "# Process all patients\n",
    "for patient_id in tqdm(os.listdir(BASE_DIR)):\n",
    "    patient_path = os.path.join(BASE_DIR, patient_id)\n",
    "    if not os.path.isdir(patient_path):\n",
    "        continue\n",
    "\n",
    "    try:\n",
    "        # Original nrrd paths\n",
    "        pre_path = os.path.join(patient_path, \"pre.nrrd\")\n",
    "        ap_path = os.path.join(patient_path, \"AP.nrrd\")\n",
    "        pp_path = os.path.join(patient_path, \"PP.nrrd\")  # fixed\n",
    "\n",
    "        # Temp NIfTI paths\n",
    "        pre_nii = os.path.join(patient_path, \"pre.nii.gz\")\n",
    "        ap_nii = os.path.join(patient_path, \"AP.nii.gz\")\n",
    "        pp_nii = os.path.join(patient_path, \"PP.nii.gz\")\n",
    "\n",
    "        # Convert preserving metadata\n",
    "        nrrd_to_nifti_with_metadata(pre_path, pre_nii)\n",
    "        nrrd_to_nifti_with_metadata(ap_path, ap_nii)\n",
    "        nrrd_to_nifti_with_metadata(pp_path, pp_nii)\n",
    "        shutil.copy(pp_nii, os.path.join(OUTPUT_DIR, f\"{patient_id}_PP.nii.gz\"))\n",
    "\n",
    "        # Output paths\n",
    "        out_pre = os.path.join(OUTPUT_DIR, f\"{patient_id}_Pre_reg.nii.gz\")\n",
    "        out_ap = os.path.join(OUTPUT_DIR, f\"{patient_id}_AP_reg.nii.gz\")\n",
    "\n",
    "        # Register\n",
    "        register_image(pp_nii, pre_nii, out_pre)\n",
    "        register_image(pp_nii, ap_nii, out_ap)\n",
    "\n",
    "    except Exception as e:\n",
    "        print(f\"[Error] {patient_id}: {e}\")"
   ]
  }
 ],
 "metadata": {
  "kernelspec": {
   "display_name": "img_processor",
   "language": "python",
   "name": "python3"
  },
  "language_info": {
   "codemirror_mode": {
    "name": "ipython",
    "version": 3
   },
   "file_extension": ".py",
   "mimetype": "text/x-python",
   "name": "python",
   "nbconvert_exporter": "python",
   "pygments_lexer": "ipython3",
   "version": "3.9.21"
  }
 },
 "nbformat": 4,
 "nbformat_minor": 2
}
