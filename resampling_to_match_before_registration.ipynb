{
 "cells": [
  {
   "cell_type": "markdown",
   "metadata": {},
   "source": [
    "### To robustly handle non-matching images image matrices and spacing\n",
    "\n",
    "-  Resample moving images (pre/AP) to match the fixed image (PP)\n"
   ]
  },
  {
   "cell_type": "code",
   "execution_count": 1,
   "metadata": {},
   "outputs": [],
   "source": [
    "import os\n",
    "import SimpleITK as sitk\n",
    "from tqdm import tqdm"
   ]
  },
  {
   "cell_type": "code",
   "execution_count": 2,
   "metadata": {},
   "outputs": [],
   "source": [
    "# Path configuration\n",
    "base_path = \"E://data//single_TARE_mismatch\"\n",
    "output_base_path = \"E://data//single_TARE_mismatch_resampled_PPfixed\"\n",
    "os.makedirs(output_base_path, exist_ok=True)"
   ]
  },
  {
   "cell_type": "code",
   "execution_count": 3,
   "metadata": {},
   "outputs": [],
   "source": [
    "\n",
    "# This resampling works only if the FOVs of image and target overlap in physical space\n",
    "def resample_image_to_target(image, target, interpolator=sitk.sitkLinear):\n",
    "    resample = sitk.ResampleImageFilter()\n",
    "    resample.SetReferenceImage(target)  # Automatically sets spacing, size, origin, direction\n",
    "    resample.SetTransform(sitk.Transform())  # Identity transform\n",
    "    resample.SetInterpolator(interpolator)\n",
    "    resample.SetDefaultPixelValue(0)\n",
    "    return resample.Execute(image)\n",
    "\n"
   ]
  },
  {
   "cell_type": "code",
   "execution_count": 4,
   "metadata": {},
   "outputs": [
    {
     "name": "stderr",
     "output_type": "stream",
     "text": [
      "100%|██████████| 8/8 [01:18<00:00,  9.83s/it]\n"
     ]
    }
   ],
   "source": [
    "# Process each patient\n",
    "for patient_id in tqdm(os.listdir(base_path)):\n",
    "    patient_dir = os.path.join(base_path, patient_id)\n",
    "    if not os.path.isdir(patient_dir):\n",
    "        continue\n",
    "\n",
    "    try:\n",
    "        pre_path = os.path.join(patient_dir, \"pre.nrrd\")\n",
    "        ap_path = os.path.join(patient_dir, \"AP.nrrd\")\n",
    "        pp_path = os.path.join(patient_dir, \"PP.nrrd\")\n",
    "\n",
    "        # Load images\n",
    "        pre = sitk.ReadImage(pre_path)\n",
    "        ap = sitk.ReadImage(ap_path)\n",
    "        pp = sitk.ReadImage(pp_path)\n",
    "\n",
    "        # Resample moving images to match the fixed image\n",
    "        pre_resampled = resample_image_to_target(pre, pp, interpolator=sitk.sitkLinear)\n",
    "        ap_resampled = resample_image_to_target(ap, pp, interpolator=sitk.sitkLinear)\n",
    "\n",
    "        # Output patient directory\n",
    "        output_patient_dir = os.path.join(output_base_path, patient_id)\n",
    "        os.makedirs(output_patient_dir, exist_ok=True)\n",
    "\n",
    "        # Save resampled images\n",
    "        sitk.WriteImage(pre_resampled, os.path.join(output_patient_dir, \"pre.nrrd\"))\n",
    "        sitk.WriteImage(ap_resampled, os.path.join(output_patient_dir, \"AP.nrrd\"))\n",
    "        sitk.WriteImage(pp, os.path.join(output_patient_dir, \"PP.nrrd\"))\n",
    "\n",
    "    except Exception as e:\n",
    "        print(f\"[Error] {patient_id}: {e}\")"
   ]
  },
  {
   "cell_type": "markdown",
   "metadata": {},
   "source": [
    "### PID 1570909 : origin z axis 너무 차이 나서 forced matching (size/spacing/direction은 일치하였음)"
   ]
  },
  {
   "cell_type": "code",
   "execution_count": 5,
   "metadata": {},
   "outputs": [],
   "source": [
    "import SimpleITK as sitk\n",
    "import os\n",
    "\n",
    "def force_match_geometry(moving_img, reference_img):\n",
    "    aligned_img = sitk.Image(moving_img)  # Copy image content\n",
    "    aligned_img.CopyInformation(reference_img)  # Copy spacing, origin, direction\n",
    "    return aligned_img\n",
    "\n",
    "\n",
    "patient_dir = \"E://data//single_TARE_mismatch//1570909\"\n",
    "\n",
    "# Example:\n",
    "pre_path = os.path.join(patient_dir, \"pre.nrrd\")\n",
    "ap_path = os.path.join(patient_dir, \"AP.nrrd\")\n",
    "pp_path = os.path.join(patient_dir, \"PP.nrrd\")\n",
    "\n",
    "pre = sitk.ReadImage(pre_path)\n",
    "ap = sitk.ReadImage(ap_path)\n",
    "pp = sitk.ReadImage(pp_path)\n",
    "\n",
    "pre_fixed = force_match_geometry(pre, pp)\n",
    "ap_fixed = force_match_geometry(ap, pp)\n",
    "\n",
    "forced_output_dir = \"E://data//1570909_forcedz_PPfixed\"\n",
    "os.makedirs(forced_output_dir, exist_ok=True)\n",
    "\n",
    "sitk.WriteImage(pre_fixed, os.path.join(forced_output_dir, \"pre_fixed.nrrd\"))\n",
    "sitk.WriteImage(ap_fixed, os.path.join(forced_output_dir, \"AP_fixed.nrrd\"))\n",
    "sitk.WriteImage(pp, \"E://data//1570909_forcedz//PP_fixed.nrrd\")"
   ]
  }
 ],
 "metadata": {
  "kernelspec": {
   "display_name": "img_processor",
   "language": "python",
   "name": "python3"
  },
  "language_info": {
   "codemirror_mode": {
    "name": "ipython",
    "version": 3
   },
   "file_extension": ".py",
   "mimetype": "text/x-python",
   "name": "python",
   "nbconvert_exporter": "python",
   "pygments_lexer": "ipython3",
   "version": "3.9.21"
  }
 },
 "nbformat": 4,
 "nbformat_minor": 2
}
